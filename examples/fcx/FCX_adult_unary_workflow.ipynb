{
 "cells": [
  {
   "cell_type": "markdown",
   "id": "bc7e4890",
   "metadata": {},
   "source": [
    "# Finding Feasible Counterfactual Explanations (FCX)\n",
    "\n",
    "Feasible Counterfactual Explanations (FCX) is a novel framework that generates realistic and low-cost counterfactuals by enforcing both hard feasibility constraints provided by domain experts and soft causal constraints inferred from data. Built on a modified Variational Autoencoder and optimized with a multi-factor loss function, FCX produces sparse, diverse, and actionable counterfactuals while preserving causal relationships, offering both individual-level explanations and global model feasibility assessments across multiple datasets.\n",
    "\n",
    "### Adult Dataset Example\n",
    "\n",
    "This notebook demonstrates preparation, training, and evaluation of the FCX models  \n",
    "specifically for the **Adult** dataset.  \n",
    "We will:\n",
    "1. Unpack the preprocessed data  \n",
    "2. (Optional) Fine‑tune the black‑box model  \n",
    "3. Train the unary and binary counterfactual generators  \n",
    "4. Evaluate the trained generators  "
   ]
  },
  {
   "cell_type": "code",
   "execution_count": null,
   "id": "566fd14e",
   "metadata": {},
   "outputs": [],
   "source": [
    "# Unzip the Adult dataset archive\n",
    "!7z x ../data.7z -o../../ -aos"
   ]
  },
  {
   "cell_type": "markdown",
   "id": "19359765",
   "metadata": {},
   "source": [
    "Load paths"
   ]
  },
  {
   "cell_type": "code",
   "execution_count": null,
   "id": "e1c7cc10",
   "metadata": {},
   "outputs": [],
   "source": [
    "import sys, os\n",
    "import importlib.util\n",
    "exp_dir = os.path.abspath(os.path.join('..','..','humancompatible','explain'))\n",
    "sys.path.insert(0, exp_dir)\n",
    "\n",
    "fcx_dir = os.path.abspath(os.path.join('..','..','humancompatible','explain','fcx'))\n",
    "sys.path.insert(0, fcx_dir)\n",
    "\n",
    "# compute absolute path to the `scripts` folder\n",
    "scripts_dir = os.path.abspath(\n",
    "    os.path.join('..', '..', 'humancompatible', 'explain', 'fcx', 'scripts')\n",
    ")\n",
    "sys.path.append(scripts_dir)\n",
    "# 1) Compute the full path to your script\n",
    "script_path = os.path.abspath(\n",
    "    os.path.join('..','..','humancompatible','explain','fcx','scripts','blackbox-model-train.py')\n",
    ")\n",
    "# 2) Create a module spec and module object\n",
    "spec = importlib.util.spec_from_file_location(\"blackbox_model_train\", script_path)\n",
    "bb_mod = importlib.util.module_from_spec(spec)\n",
    "\n",
    "# 3) Execute the module in its own namespace\n",
    "spec.loader.exec_module(bb_mod)\n",
    "\n",
    "# 4) Extract the function\n",
    "train_blackbox = bb_mod.train_blackbox"
   ]
  },
  {
   "cell_type": "markdown",
   "id": "c29542f9",
   "metadata": {},
   "source": [
    "## 1. (Optional) Fine‑tune the black‑box model for Adult\n",
    "\n",
    "Run this first if the provided checkpoint isn’t compatible."
   ]
  },
  {
   "cell_type": "code",
   "execution_count": null,
   "id": "7ca8bdf8",
   "metadata": {},
   "outputs": [],
   "source": [
    "# Fine-tune/load the black‑box model\n",
    "train_blackbox('adult')"
   ]
  },
  {
   "cell_type": "markdown",
   "id": "169f4c28",
   "metadata": {},
   "source": [
    "## 2. Train FCX on the Adult dataset\n",
    "\n",
    "Next, we train the **unary** generator, then the **binary** generator."
   ]
  },
  {
   "cell_type": "code",
   "execution_count": null,
   "id": "b85d67c7",
   "metadata": {},
   "outputs": [],
   "source": [
    "\n",
    "from FCX_unary_generation_adult import train_unary_fcx_vae\n",
    "# Call it for the Adult dataset\n",
    "train_unary_fcx_vae(\n",
    "    'adult',\n",
    "    base_data_dir='../../data/',\n",
    "    base_model_dir='../models/',\n",
    "    batch_size=2048, #2048\n",
    "    epochs=50,\n",
    "    validity=29.0,\n",
    "    feasibility=192.0,\n",
    "    margin=0.764\n",
    ")"
   ]
  },
  {
   "cell_type": "markdown",
   "id": "1f136a16",
   "metadata": {},
   "source": [
    "## 3. Evaluate the trained models (Adult)\n",
    "\n",
    "Run evaluation scripts to compute validity and feasibility metrics."
   ]
  },
  {
   "cell_type": "code",
   "execution_count": null,
   "id": "fab4d5ed",
   "metadata": {},
   "outputs": [],
   "source": [
    "\n",
    "from evaluate_unary_adult import evaluate_adult\n",
    "import warnings\n",
    "warnings.filterwarnings(\"ignore\")\n",
    "res = evaluate_adult(\n",
    "    base_data_dir='../../data/',\n",
    "    base_model_dir='../models/',\n",
    "    dataset_name='adult',\n",
    "    pth_name = 'adult-margin-0.764-feasibility-192.0-validity-29.0-epoch-50-fcx-unary.pth'\n",
    ")\n",
    "print(res)"
   ]
  }
 ],
 "metadata": {
  "kernelspec": {
   "display_name": "explain",
   "language": "python",
   "name": "python3"
  },
  "language_info": {
   "codemirror_mode": {
    "name": "ipython",
    "version": 3
   },
   "file_extension": ".py",
   "mimetype": "text/x-python",
   "name": "python",
   "nbconvert_exporter": "python",
   "pygments_lexer": "ipython3",
   "version": "3.10.4"
  }
 },
 "nbformat": 4,
 "nbformat_minor": 5
}
